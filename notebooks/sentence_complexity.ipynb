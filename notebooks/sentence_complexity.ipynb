{
 "cells": [
  {
   "attachments": {},
   "cell_type": "markdown",
   "metadata": {},
   "source": [
    "# Approximating the semantic complexity of a sentence\n",
    "\n",
    "### Hale, John (2006). <em>Uncertainty About the Rest of the Sentence</em>, Cognitive Science 30 (2006), 643–672\n",
    "\n",
    "\"The [entropy reduction hypothesis] ERH might be glossed as saying that a person’s processing difficulty at a word in a sentence is proportional to the number of bits signaled to the person by that word with respect to a probabilistic grammar the person knows.\"<br>\n",
    "\n",
    "\"The [entropy reduction hypothesis], if correct, would offer just such an explanation. If a person’s difficulty on each word of a sentence is related to the amount of derivational information signaled by that word, then the total difficulty reading a sentence should be the sum of the difficulty on each word.\"\n",
    "\n",
    "### Assumptions for the study\n",
    "\n",
    "We make the simplifying assumption that the Hale's method to measure sentence difficulty (2003b, 2006) can be used to approximate sentential semantic complexity.<br>\n",
    "\n",
    "Given a word $ w_{i} $ and its conditional entropy $ H(w_{i}) $, its <strong>entropy reduction</strong>, $ ER $, is given by\n",
    "$$ ER = max(0, H(w_{i-1}) - H(w_{i})) $$\n",
    "\n",
    "If $ w_{i} $ performs disambiguation relative to the preceding word $ w_{i-1} $, then $ H(w_{i-1}) > H(w_{i}) $ (equivalently, $ H(w_{i}) < H(w_{i-1}) $) and the difference $ H(w_{i-1}) - H(w_{i}) > 0 $. Otherwise, this difference is negative, and by definition, $ ER = 0 $.<br>\n",
    "\n",
    "For a sentence $ S = \\langle x_{1}, \\dots, x_{n} \\rangle $, its difficulty can be approximated by summing the over the difficulties on each word.\n",
    "\n",
    "### Methods\n",
    "\n",
    "To approximate token probabilities, we use <a href=\"https://huggingface.co/gpt2-large\">GPT-2 large</a>, an English language model (LM). It is accessible via the Hugging Face framework.<br>\n",
    "\n",
    "For tensor manipulation and operations, we use PyTorch.\n",
    "\n",
    "### Calculation: Sentential semantic complexity\n",
    "\n",
    "#### Import statements"
   ]
  },
  {
   "cell_type": "code",
   "execution_count": 1,
   "metadata": {},
   "outputs": [
    {
     "data": {
      "text/plain": [
       "<torch._C.Generator at 0x14f2da410>"
      ]
     },
     "execution_count": 1,
     "metadata": {},
     "output_type": "execute_result"
    }
   ],
   "source": [
    "import matplotlib.pyplot as plt\n",
    "import seaborn as sns\n",
    "import scipy.stats as stats\n",
    "import torch\n",
    "from transformers import PreTrainedTokenizerFast, GPT2TokenizerFast, GPT2LMHeadModel\n",
    "\n",
    "torch.manual_seed(42) # Seed seed for reproducibility"
   ]
  },
  {
   "cell_type": "code",
   "execution_count": 2,
   "metadata": {},
   "outputs": [],
   "source": [
    "lm = GPT2LMHeadModel.from_pretrained('gpt2-large')\n",
    "tokenizer = GPT2TokenizerFast.from_pretrained('gpt2-large')"
   ]
  },
  {
   "attachments": {},
   "cell_type": "markdown",
   "metadata": {},
   "source": [
    "#### Define sentences\n",
    "\n",
    "Parallel corpora (```common``` = sentences with commonly appearing adverbs, ```rare``` = sentences with rarely appearing adverbs)"
   ]
  },
  {
   "cell_type": "code",
   "execution_count": 3,
   "metadata": {},
   "outputs": [],
   "source": [
    "common = [\n",
    "\t'They looked at each other happily.',\n",
    "\t'The experienced doctor performed the operation successfully.',\n",
    "\t'She did not move, continuing to stare at me passionately.',\n",
    "\t'The dogs barked unexpectedly.',\n",
    "\t'The man on the boat waved angrily.',\n",
    "\t'One important person has been continuously absent.',\n",
    "\t'By the swimming pool, the neighbour waited nervously.',\n",
    "\t'It is so easy to be occasionally charitable.',\n",
    "\t'She clings to her marriage desperately.',\n",
    "\t'In this country, racism is spreading constantly.',\n",
    "\t'The little girl screamed and stamped her foot emotionally.',\n",
    "\t'The guests avoided all political discussion carefully.',\n",
    "\t'The day started normally.',\n",
    "\t'She grabbed the microphone stepped onto the stage confidently.',\n",
    "\t'They have been misleading you most unacceptably.',\n",
    "\t'To meet the deadline, the team worked efficiently.',\n",
    "\t'The student studied for the exam carefully.'\n",
    "]"
   ]
  },
  {
   "cell_type": "code",
   "execution_count": 4,
   "metadata": {},
   "outputs": [],
   "source": [
    "rare = [\n",
    "\t'They looked at each other amiably.',\n",
    "\t'The experienced doctor performed the operation dexterously.',\n",
    "\t'She did not move, continuing to stare at me belligerently.',\n",
    "\t'The dogs barked ferociously.',\n",
    "\t'The man on the boat waved affably.',\n",
    "\t'One important person has been conspicuously absent.',\n",
    "\t'By the swimming pool, the neighbour waited languidly.',\n",
    "\t'It is so easy to be vicariously charitable.',\n",
    "\t'She clings to her marriage tenaciously.',\n",
    "\t'In this country, racism has been spreading insidiously.',\n",
    "\t'The little girl screamed and stamped her foot petulantly.',\n",
    "\t'The guests avoided all political discussion sedulously.',\n",
    "\t'The day started mundanely.',\n",
    "\t'She grabbed the microphone and stepped onto the stage audaciously.',\n",
    "\t'They have been misleading you most egregiously.',\n",
    "\t'To meet the deadline, the team worked assiduously.',\n",
    "\t'The student studied for the exam sedulously.'\n",
    "]"
   ]
  },
  {
   "attachments": {},
   "cell_type": "markdown",
   "metadata": {},
   "source": [
    "#### How to calculate sentence entropies\n",
    "* <strong>Step 1:</strong> Tokenize sentences, i.e. map each token to an index in the LM's vocabulary.\n",
    "\t* <strong>Step 1.5:</strong> Extract the adverb from the sentence and tokenize it separately from the entire sentence. (Some words like \"sedulously\" are mapped to more than 1 item in GPT-2's vocabulary. Therefore, we must tokenize the adverb separately from the entire sentence. See: <strong>Note</strong>.)\n",
    "* <strong>Step 2:</strong> Add \\<BOS\\> and <\\EOS\\> tokens to the sequence so that the probabilities we get are properly conditioned on the preceding tokens.\n",
    "* <strong>Step 3:</strong> Calculate tokens' conditional logits (pre-softmax probabilities) under the LM.\n",
    "* <strong>Step 4:</strong> Calculate sentential entropy, approximated as the sum of the token surprisals at each time step (token position).\n",
    "\n",
    "The helper function below defines entropy reduction (ER) as defined in the Assumptions section."
   ]
  },
  {
   "cell_type": "code",
   "execution_count": 5,
   "metadata": {},
   "outputs": [],
   "source": [
    "def calc_er(\n",
    "\ttoken_ids: torch.LongTensor,\n",
    "\tentropy_tensor: torch.FloatTensor,\n",
    "\ttokenizer: PreTrainedTokenizerFast\n",
    ") -> float:\n",
    "\t\"\"\"Calculate the entropy reduction (ER) of a sentence.\"\"\"\n",
    "\tassert token_ids.size() == entropy_tensor.size()\n",
    "\tassert token_ids[0] == tokenizer.bos_token_id\n",
    "\tassert token_ids[-1] == tokenizer.eos_token_id\n",
    "\n",
    "\ter = 0\n",
    "\tfor i in range(1, entropy_tensor.size(0)):\n",
    "\t\twork = entropy_tensor[i] - entropy_tensor[i-1]\n",
    "\t\ter += max(0, work)\n",
    "\treturn er"
   ]
  },
  {
   "attachments": {},
   "cell_type": "markdown",
   "metadata": {},
   "source": [
    "##### Common adverb sentences"
   ]
  },
  {
   "cell_type": "code",
   "execution_count": 6,
   "metadata": {},
   "outputs": [],
   "source": [
    "sent_ents_common = dict()\n",
    "for sent in common:\n",
    "\t# Step 1\n",
    "\ttokenized = tokenizer(sent)['input_ids']\n",
    "\t# Step 2\n",
    "\tinput_ids = torch.tensor([tokenizer.bos_token_id] + tokenized + [tokenizer.eos_token_id])\n",
    "\t# Step 3\n",
    "\twith torch.no_grad():\n",
    "\t\toutputs = lm(input_ids, labels=input_ids)\n",
    "\tlogits = outputs['logits']\n",
    "\t# Step 4\n",
    "\tnlls = -1 * torch.log_softmax(logits, dim=-1) # Token surprisal\n",
    "\tprobs = torch.softmax(logits, dim=-1) # Token probability under the LM\n",
    "\tentropies = torch.sum(nlls * probs, dim=-1) # Sequence distribution entropy\n",
    "\tsent_entropy = calc_er(input_ids, entropies, tokenizer) # Sum of all token difficulties\n",
    "\t# Update dictionary\n",
    "\tsent_ents_common[sent_entropy] = sent"
   ]
  },
  {
   "cell_type": "code",
   "execution_count": 7,
   "metadata": {},
   "outputs": [
    {
     "name": "stdout",
     "output_type": "stream",
     "text": [
      "Summary: Common sentences\n",
      "7.267353534698486\tThey looked at each other happily.\n",
      "5.7625226974487305\tThe experienced doctor performed the operation successfully.\n",
      "10.270366668701172\tShe did not move, continuing to stare at me passionately.\n",
      "6.576528072357178\tThe dogs barked unexpectedly.\n",
      "9.525788307189941\tThe man on the boat waved angrily.\n",
      "9.291593551635742\tOne important person has been continuously absent.\n",
      "11.173080444335938\tBy the swimming pool, the neighbour waited nervously.\n",
      "11.269996643066406\tIt is so easy to be occasionally charitable.\n",
      "10.110099792480469\tShe clings to her marriage desperately.\n",
      "10.916854858398438\tIn this country, racism is spreading constantly.\n",
      "8.631889343261719\tThe little girl screamed and stamped her foot emotionally.\n",
      "6.5859270095825195\tThe guests avoided all political discussion carefully.\n",
      "6.226554870605469\tThe day started normally.\n",
      "10.163542747497559\tShe grabbed the microphone stepped onto the stage confidently.\n",
      "11.181346893310547\tThey have been misleading you most unacceptably.\n",
      "10.85761547088623\tTo meet the deadline, the team worked efficiently.\n",
      "8.636734962463379\tThe student studied for the exam carefully.\n",
      "\n",
      "Mean: 9.085165977478027 bits\n",
      "Standard deviation: 1.925818920135498 bits\n"
     ]
    }
   ],
   "source": [
    "print('Summary: Common sentences')\n",
    "\n",
    "for sent_ent, sent in sent_ents_common.items():\n",
    "    print(f'{sent_ent.item()}\\t{sent}')\n",
    "print('')\n",
    "\n",
    "ents_common = torch.round(torch.tensor([ents for ents in sent_ents_common.keys()]), decimals=5)\n",
    "mean_ents_common = torch.mean(ents_common)\n",
    "std_ents_common = torch.std(ents_common)\n",
    "print(f'Mean: {mean_ents_common} bits')\n",
    "print(f'Standard deviation: {std_ents_common.item()} bits')"
   ]
  },
  {
   "attachments": {},
   "cell_type": "markdown",
   "metadata": {},
   "source": [
    "##### Rare adverb sentences"
   ]
  },
  {
   "cell_type": "code",
   "execution_count": 8,
   "metadata": {},
   "outputs": [],
   "source": [
    "sent_ents_rare = dict()\n",
    "for sent in rare:\n",
    "\t# Step 1\n",
    "\ttokenized = tokenizer(sent)['input_ids']\n",
    "\t# Step 2\n",
    "\tinput_ids = torch.tensor([tokenizer.bos_token_id] + tokenized + [tokenizer.eos_token_id])\n",
    "\t# Step 3\n",
    "\twith torch.no_grad():\n",
    "\t\toutputs = lm(input_ids, labels=input_ids)\n",
    "\t# Step 4\n",
    "\tlogits = outputs['logits']\n",
    "\tlogits_shifted = logits[..., :-1, :].contiguous()\n",
    "\t# Step 5\n",
    "\tnlls = -1 * torch.log_softmax(logits, dim=-1) # Token surprisal\n",
    "\tprobs = torch.softmax(logits, dim=-1) # Token probability under the LM\n",
    "\tentropies = torch.sum(nlls * probs, dim=-1) # Sequence distribution entropy\n",
    "\tsent_entropy = calc_er(input_ids, entropies, tokenizer) # Sentence entropy = sum over all tokens\n",
    "\t# Update dictionary\n",
    "\tsent_ents_rare[sent_entropy] = sent"
   ]
  },
  {
   "cell_type": "code",
   "execution_count": 9,
   "metadata": {},
   "outputs": [
    {
     "name": "stdout",
     "output_type": "stream",
     "text": [
      "Summary: Rare sentences\n",
      "8.65108585357666\tThey looked at each other amiably.\n",
      "8.50815200805664\tThe experienced doctor performed the operation dexterously.\n",
      "12.047250747680664\tShe did not move, continuing to stare at me belligerently.\n",
      "9.646944046020508\tThe dogs barked ferociously.\n",
      "9.96815299987793\tThe man on the boat waved affably.\n",
      "10.107120513916016\tOne important person has been conspicuously absent.\n",
      "13.756447792053223\tBy the swimming pool, the neighbour waited languidly.\n",
      "16.987733840942383\tIt is so easy to be vicariously charitable.\n",
      "11.898886680603027\tShe clings to her marriage tenaciously.\n",
      "13.954389572143555\tIn this country, racism has been spreading insidiously.\n",
      "11.3812255859375\tThe little girl screamed and stamped her foot petulantly.\n",
      "7.7398481369018555\tThe guests avoided all political discussion sedulously.\n",
      "7.6264801025390625\tThe day started mundanely.\n",
      "14.73045539855957\tShe grabbed the microphone and stepped onto the stage audaciously.\n",
      "8.505223274230957\tThey have been misleading you most egregiously.\n",
      "13.452404975891113\tTo meet the deadline, the team worked assiduously.\n",
      "8.799381256103516\tThe student studied for the exam sedulously.\n",
      "\n",
      "Mean: 11.04477596282959\n",
      "Standard deviation: 2.7683615684509277\n"
     ]
    }
   ],
   "source": [
    "print('Summary: Rare sentences')\n",
    "\n",
    "for sent_ent, sent in sent_ents_rare.items():\n",
    "    print(f'{sent_ent.item()}\\t{sent}')\n",
    "print('')\n",
    "\n",
    "ents_rare = torch.tensor([ents for ents in sent_ents_rare.keys()])\n",
    "print(f'Mean: {torch.mean(ents_rare)}')\n",
    "print(f'Standard deviation: {torch.std(ents_rare)}')"
   ]
  },
  {
   "attachments": {},
   "cell_type": "markdown",
   "metadata": {},
   "source": [
    "#### Distribution of sentence entropies: KDE plot"
   ]
  },
  {
   "cell_type": "code",
   "execution_count": 10,
   "metadata": {},
   "outputs": [
    {
     "data": {
      "image/png": "[encoded data removed]",
      "text/plain": [
       "<Figure size 640x480 with 1 Axes>"
      ]
     },
     "metadata": {},
     "output_type": "display_data"
    }
   ],
   "source": [
    "fig, ax = plt.subplots()\n",
    "\n",
    "# Common\n",
    "ents_common = torch.tensor([ents for ents in sent_ents_common.keys()])\n",
    "sns.kdeplot(\n",
    "    data=ents_common,\n",
    "    ax=ax,\n",
    "    bw_method=0.2,\n",
    "    color='blueviolet',\n",
    "    fill=True,\n",
    "    label='Common'\n",
    ");\n",
    "\n",
    "# Rare\n",
    "ents_rare = torch.tensor([ents for ents in sent_ents_rare.keys()])\n",
    "sns.kdeplot(\n",
    "    data=ents_rare,\n",
    "    ax=ax,\n",
    "    bw_method=0.2,\n",
    "    color='gold',\n",
    "    fill=True,\n",
    "    label='Rare'\n",
    ");\n",
    "\n",
    "# Plot params\n",
    "ax.set(title='Sentence Complexity (ERs)')\n",
    "ax.legend(loc='upper left')\n",
    "ax.set(xlabel='Bits');"
   ]
  }
 ],
 "metadata": {
  "kernelspec": {
   "display_name": "venv",
   "language": "python",
   "name": "python3"
  },
  "language_info": {
   "codemirror_mode": {
    "name": "ipython",
    "version": 3
   },
   "file_extension": ".py",
   "mimetype": "text/x-python",
   "name": "python",
   "nbconvert_exporter": "python",
   "pygments_lexer": "ipython3",
   "version": "3.10.12"
  },
  "orig_nbformat": 4
 },
 "nbformat": 4,
 "nbformat_minor": 2
}
